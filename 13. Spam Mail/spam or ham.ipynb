{
 "cells": [
  {
   "cell_type": "code",
   "execution_count": 1,
   "id": "010b3d8e",
   "metadata": {},
   "outputs": [],
   "source": [
    "import numpy as np\n",
    "import pandas as pd\n",
    "from sklearn.feature_extraction.text import TfidfVectorizer\n",
    "from sklearn.model_selection import train_test_split\n",
    "from sklearn.linear_model import LogisticRegression\n",
    "from sklearn.metrics import accuracy_score"
   ]
  },
  {
   "cell_type": "code",
   "execution_count": 2,
   "id": "fccc1fb6",
   "metadata": {},
   "outputs": [],
   "source": [
    "raw_mail_d = pd.read_csv(r\"D:\\Python\\ML projects\\13. Spam Mail\\mail_data.csv\")"
   ]
  },
  {
   "cell_type": "code",
   "execution_count": 3,
   "id": "311acd01",
   "metadata": {},
   "outputs": [
    {
     "data": {
      "text/html": [
       "<div>\n",
       "<style scoped>\n",
       "    .dataframe tbody tr th:only-of-type {\n",
       "        vertical-align: middle;\n",
       "    }\n",
       "\n",
       "    .dataframe tbody tr th {\n",
       "        vertical-align: top;\n",
       "    }\n",
       "\n",
       "    .dataframe thead th {\n",
       "        text-align: right;\n",
       "    }\n",
       "</style>\n",
       "<table border=\"1\" class=\"dataframe\">\n",
       "  <thead>\n",
       "    <tr style=\"text-align: right;\">\n",
       "      <th></th>\n",
       "      <th>Category</th>\n",
       "      <th>Message</th>\n",
       "    </tr>\n",
       "  </thead>\n",
       "  <tbody>\n",
       "    <tr>\n",
       "      <th>0</th>\n",
       "      <td>ham</td>\n",
       "      <td>Go until jurong point, crazy.. Available only ...</td>\n",
       "    </tr>\n",
       "    <tr>\n",
       "      <th>1</th>\n",
       "      <td>ham</td>\n",
       "      <td>Ok lar... Joking wif u oni...</td>\n",
       "    </tr>\n",
       "    <tr>\n",
       "      <th>2</th>\n",
       "      <td>spam</td>\n",
       "      <td>Free entry in 2 a wkly comp to win FA Cup fina...</td>\n",
       "    </tr>\n",
       "    <tr>\n",
       "      <th>3</th>\n",
       "      <td>ham</td>\n",
       "      <td>U dun say so early hor... U c already then say...</td>\n",
       "    </tr>\n",
       "    <tr>\n",
       "      <th>4</th>\n",
       "      <td>ham</td>\n",
       "      <td>Nah I don't think he goes to usf, he lives aro...</td>\n",
       "    </tr>\n",
       "  </tbody>\n",
       "</table>\n",
       "</div>"
      ],
      "text/plain": [
       "  Category                                            Message\n",
       "0      ham  Go until jurong point, crazy.. Available only ...\n",
       "1      ham                      Ok lar... Joking wif u oni...\n",
       "2     spam  Free entry in 2 a wkly comp to win FA Cup fina...\n",
       "3      ham  U dun say so early hor... U c already then say...\n",
       "4      ham  Nah I don't think he goes to usf, he lives aro..."
      ]
     },
     "execution_count": 3,
     "metadata": {},
     "output_type": "execute_result"
    }
   ],
   "source": [
    "raw_mail_d.head()"
   ]
  },
  {
   "cell_type": "code",
   "execution_count": 4,
   "id": "b3e434be",
   "metadata": {},
   "outputs": [
    {
     "data": {
      "text/plain": [
       "Category    0\n",
       "Message     0\n",
       "dtype: int64"
      ]
     },
     "execution_count": 4,
     "metadata": {},
     "output_type": "execute_result"
    }
   ],
   "source": [
    "raw_mail_d.isnull().sum()"
   ]
  },
  {
   "cell_type": "code",
   "execution_count": 5,
   "id": "6ad76dd5",
   "metadata": {},
   "outputs": [],
   "source": [
    "# to remove null values (like empty strings)\n",
    "\n",
    "mail_d = raw_mail_d.where((pd.notnull(raw_mail_d)),'')"
   ]
  },
  {
   "cell_type": "code",
   "execution_count": 6,
   "id": "13d24b1d",
   "metadata": {},
   "outputs": [
    {
     "data": {
      "text/html": [
       "<div>\n",
       "<style scoped>\n",
       "    .dataframe tbody tr th:only-of-type {\n",
       "        vertical-align: middle;\n",
       "    }\n",
       "\n",
       "    .dataframe tbody tr th {\n",
       "        vertical-align: top;\n",
       "    }\n",
       "\n",
       "    .dataframe thead th {\n",
       "        text-align: right;\n",
       "    }\n",
       "</style>\n",
       "<table border=\"1\" class=\"dataframe\">\n",
       "  <thead>\n",
       "    <tr style=\"text-align: right;\">\n",
       "      <th></th>\n",
       "      <th>Category</th>\n",
       "      <th>Message</th>\n",
       "    </tr>\n",
       "  </thead>\n",
       "  <tbody>\n",
       "    <tr>\n",
       "      <th>0</th>\n",
       "      <td>ham</td>\n",
       "      <td>Go until jurong point, crazy.. Available only ...</td>\n",
       "    </tr>\n",
       "    <tr>\n",
       "      <th>1</th>\n",
       "      <td>ham</td>\n",
       "      <td>Ok lar... Joking wif u oni...</td>\n",
       "    </tr>\n",
       "    <tr>\n",
       "      <th>2</th>\n",
       "      <td>spam</td>\n",
       "      <td>Free entry in 2 a wkly comp to win FA Cup fina...</td>\n",
       "    </tr>\n",
       "    <tr>\n",
       "      <th>3</th>\n",
       "      <td>ham</td>\n",
       "      <td>U dun say so early hor... U c already then say...</td>\n",
       "    </tr>\n",
       "    <tr>\n",
       "      <th>4</th>\n",
       "      <td>ham</td>\n",
       "      <td>Nah I don't think he goes to usf, he lives aro...</td>\n",
       "    </tr>\n",
       "  </tbody>\n",
       "</table>\n",
       "</div>"
      ],
      "text/plain": [
       "  Category                                            Message\n",
       "0      ham  Go until jurong point, crazy.. Available only ...\n",
       "1      ham                      Ok lar... Joking wif u oni...\n",
       "2     spam  Free entry in 2 a wkly comp to win FA Cup fina...\n",
       "3      ham  U dun say so early hor... U c already then say...\n",
       "4      ham  Nah I don't think he goes to usf, he lives aro..."
      ]
     },
     "execution_count": 6,
     "metadata": {},
     "output_type": "execute_result"
    }
   ],
   "source": [
    "mail_d.head()"
   ]
  },
  {
   "cell_type": "code",
   "execution_count": 7,
   "id": "059241f3",
   "metadata": {},
   "outputs": [
    {
     "data": {
      "text/plain": [
       "(5572, 2)"
      ]
     },
     "execution_count": 7,
     "metadata": {},
     "output_type": "execute_result"
    }
   ],
   "source": [
    "mail_d.shape"
   ]
  },
  {
   "cell_type": "code",
   "execution_count": 8,
   "id": "2a70b05f",
   "metadata": {},
   "outputs": [],
   "source": [
    "mail_d.replace({'Category':{'spam':0,'ham':1}}, inplace=True)"
   ]
  },
  {
   "cell_type": "markdown",
   "id": "9180a3b8",
   "metadata": {},
   "source": [
    "Spam = 0  \n",
    "Ham = 1"
   ]
  },
  {
   "cell_type": "code",
   "execution_count": 9,
   "id": "29e70396",
   "metadata": {},
   "outputs": [
    {
     "data": {
      "text/html": [
       "<div>\n",
       "<style scoped>\n",
       "    .dataframe tbody tr th:only-of-type {\n",
       "        vertical-align: middle;\n",
       "    }\n",
       "\n",
       "    .dataframe tbody tr th {\n",
       "        vertical-align: top;\n",
       "    }\n",
       "\n",
       "    .dataframe thead th {\n",
       "        text-align: right;\n",
       "    }\n",
       "</style>\n",
       "<table border=\"1\" class=\"dataframe\">\n",
       "  <thead>\n",
       "    <tr style=\"text-align: right;\">\n",
       "      <th></th>\n",
       "      <th>Category</th>\n",
       "      <th>Message</th>\n",
       "    </tr>\n",
       "  </thead>\n",
       "  <tbody>\n",
       "    <tr>\n",
       "      <th>0</th>\n",
       "      <td>1</td>\n",
       "      <td>Go until jurong point, crazy.. Available only ...</td>\n",
       "    </tr>\n",
       "    <tr>\n",
       "      <th>1</th>\n",
       "      <td>1</td>\n",
       "      <td>Ok lar... Joking wif u oni...</td>\n",
       "    </tr>\n",
       "    <tr>\n",
       "      <th>2</th>\n",
       "      <td>0</td>\n",
       "      <td>Free entry in 2 a wkly comp to win FA Cup fina...</td>\n",
       "    </tr>\n",
       "    <tr>\n",
       "      <th>3</th>\n",
       "      <td>1</td>\n",
       "      <td>U dun say so early hor... U c already then say...</td>\n",
       "    </tr>\n",
       "    <tr>\n",
       "      <th>4</th>\n",
       "      <td>1</td>\n",
       "      <td>Nah I don't think he goes to usf, he lives aro...</td>\n",
       "    </tr>\n",
       "  </tbody>\n",
       "</table>\n",
       "</div>"
      ],
      "text/plain": [
       "   Category                                            Message\n",
       "0         1  Go until jurong point, crazy.. Available only ...\n",
       "1         1                      Ok lar... Joking wif u oni...\n",
       "2         0  Free entry in 2 a wkly comp to win FA Cup fina...\n",
       "3         1  U dun say so early hor... U c already then say...\n",
       "4         1  Nah I don't think he goes to usf, he lives aro..."
      ]
     },
     "execution_count": 9,
     "metadata": {},
     "output_type": "execute_result"
    }
   ],
   "source": [
    "mail_d.head()"
   ]
  },
  {
   "cell_type": "code",
   "execution_count": 10,
   "id": "fd9f8019",
   "metadata": {},
   "outputs": [],
   "source": [
    "x = mail_d['Message']\n",
    "y = mail_d['Category']"
   ]
  },
  {
   "cell_type": "code",
   "execution_count": 11,
   "id": "7d033eee",
   "metadata": {},
   "outputs": [
    {
     "name": "stdout",
     "output_type": "stream",
     "text": [
      "0       Go until jurong point, crazy.. Available only ...\n",
      "1                           Ok lar... Joking wif u oni...\n",
      "2       Free entry in 2 a wkly comp to win FA Cup fina...\n",
      "3       U dun say so early hor... U c already then say...\n",
      "4       Nah I don't think he goes to usf, he lives aro...\n",
      "                              ...                        \n",
      "5567    This is the 2nd time we have tried 2 contact u...\n",
      "5568                 Will ü b going to esplanade fr home?\n",
      "5569    Pity, * was in mood for that. So...any other s...\n",
      "5570    The guy did some bitching but I acted like i'd...\n",
      "5571                           Rofl. Its true to its name\n",
      "Name: Message, Length: 5572, dtype: object 0       1\n",
      "1       1\n",
      "2       0\n",
      "3       1\n",
      "4       1\n",
      "       ..\n",
      "5567    0\n",
      "5568    1\n",
      "5569    1\n",
      "5570    1\n",
      "5571    1\n",
      "Name: Category, Length: 5572, dtype: int64\n"
     ]
    }
   ],
   "source": [
    "print(x,y)"
   ]
  },
  {
   "cell_type": "code",
   "execution_count": 18,
   "id": "05a65553",
   "metadata": {},
   "outputs": [],
   "source": [
    "x_train, x_test, y_train, y_test = train_test_split(x,y, test_size=0.2, random_state=1)"
   ]
  },
  {
   "cell_type": "code",
   "execution_count": 25,
   "id": "1bf100f0",
   "metadata": {},
   "outputs": [],
   "source": [
    "# Feature Extraction using TFIDF\n",
    "# Transform text data into feature vectors\n",
    "\n",
    "feature_extraction = TfidfVectorizer(min_df=1, stop_words='english', lowercase=True)\n",
    "\n",
    "x_train_features = feature_extraction.fit_transform(x_train)\n",
    "x_test_features = feature_extraction.transform(x_test)\n",
    "\n",
    "# convert data type for Y as integers\n",
    "\n",
    "y_train = y_train.astype('int')\n",
    "y_test = y_test.astype('int')"
   ]
  },
  {
   "cell_type": "code",
   "execution_count": 26,
   "id": "b10d792a",
   "metadata": {},
   "outputs": [
    {
     "name": "stdout",
     "output_type": "stream",
     "text": [
      "  (0, 7406)\t0.7202901083692191\n",
      "  (0, 5207)\t0.693672948719682\n",
      "  (1, 7408)\t0.39146814311442063\n",
      "  (1, 5220)\t0.4705918182872853\n",
      "  (1, 4400)\t0.5934443291757167\n",
      "  (1, 4191)\t0.3895427356578373\n",
      "  (1, 3071)\t0.3483910428713775\n",
      "  (2, 7181)\t0.7357795587192053\n",
      "  (2, 994)\t0.6772211167491541\n",
      "  (3, 3259)\t1.0\n",
      "  (4, 7336)\t0.3056500641731669\n",
      "  (4, 7100)\t0.18546351525534188\n",
      "  (4, 6030)\t0.5868928485020234\n",
      "  (4, 5925)\t0.3163109675928492\n",
      "  (4, 5196)\t0.33058431450158204\n",
      "  (4, 3951)\t0.2762463598251023\n",
      "  (4, 2854)\t0.2623110272820492\n",
      "  (4, 2093)\t0.19907660636915728\n",
      "  (4, 1604)\t0.2934464242510117\n",
      "  (4, 1067)\t0.2180322556038374\n",
      "  (5, 7120)\t0.41930198660651424\n",
      "  (5, 7095)\t0.47776118013894237\n",
      "  (5, 6602)\t0.4818760834807631\n",
      "  (5, 4743)\t0.33583035252339755\n",
      "  (5, 3101)\t0.3500213296091081\n",
      "  :\t:\n",
      "  (1111, 2886)\t0.11453235557068618\n",
      "  (1111, 2761)\t0.18749587684632552\n",
      "  (1111, 2652)\t0.4776476584652413\n",
      "  (1111, 2540)\t0.36360411501974377\n",
      "  (1111, 2067)\t0.2044709693034356\n",
      "  (1111, 1873)\t0.19469034463818594\n",
      "  (1111, 1002)\t0.1695641172846675\n",
      "  (1111, 692)\t0.22770529650512397\n",
      "  (1111, 354)\t0.23882382923262066\n",
      "  (1111, 346)\t0.22770529650512397\n",
      "  (1111, 70)\t0.23882382923262066\n",
      "  (1112, 7416)\t0.35668207768327437\n",
      "  (1112, 6940)\t0.4013881537648428\n",
      "  (1112, 6634)\t0.41288735388494413\n",
      "  (1112, 5401)\t0.34019679210398324\n",
      "  (1112, 4573)\t0.2612062549945248\n",
      "  (1112, 3662)\t0.4990767545934978\n",
      "  (1112, 3025)\t0.32886061864716865\n",
      "  (1114, 7397)\t0.3194962937300205\n",
      "  (1114, 6607)\t0.42274337683139135\n",
      "  (1114, 6194)\t0.4475220509477496\n",
      "  (1114, 4035)\t0.2502028994570357\n",
      "  (1114, 2353)\t0.2851630408099277\n",
      "  (1114, 1805)\t0.4091066884243912\n",
      "  (1114, 1641)\t0.45568238532913335\n"
     ]
    }
   ],
   "source": [
    "print(x_test_features)"
   ]
  },
  {
   "cell_type": "code",
   "execution_count": 27,
   "id": "6749b1a6",
   "metadata": {},
   "outputs": [],
   "source": [
    "model = LogisticRegression()"
   ]
  },
  {
   "cell_type": "code",
   "execution_count": 28,
   "id": "e7ef77d8",
   "metadata": {},
   "outputs": [
    {
     "name": "stdout",
     "output_type": "stream",
     "text": [
      "0.9681400044873233\n"
     ]
    }
   ],
   "source": [
    "model.fit(x_train_features, y_train)\n",
    "\n",
    "predict_train = model.predict(x_train_features)\n",
    "acc_train = accuracy_score(y_train, predict_train)\n",
    "print(acc_train)"
   ]
  },
  {
   "cell_type": "code",
   "execution_count": 29,
   "id": "12a66c25",
   "metadata": {},
   "outputs": [
    {
     "name": "stdout",
     "output_type": "stream",
     "text": [
      "0.9704035874439462\n"
     ]
    }
   ],
   "source": [
    "predict_test = model.predict(x_test_features)\n",
    "acc_test = accuracy_score(y_test, predict_test)\n",
    "print(acc_test)"
   ]
  },
  {
   "cell_type": "code",
   "execution_count": 24,
   "id": "34726264",
   "metadata": {},
   "outputs": [
    {
     "name": "stdout",
     "output_type": "stream",
     "text": [
      "(4457, 7454) (1115, 3330) (1115,)\n"
     ]
    }
   ],
   "source": [
    "print(x_train_features.shape, x_test_features.shape, y_test.shape)"
   ]
  },
  {
   "cell_type": "code",
   "execution_count": 35,
   "id": "f1f8744c",
   "metadata": {},
   "outputs": [
    {
     "name": "stdout",
     "output_type": "stream",
     "text": [
      "You've been spammed\n"
     ]
    }
   ],
   "source": [
    "input_d = ['Free entry in 2 a wkly comp to win FA Cup final tkts 21st May 2005. Text FA to 87121 to receive entry question(std txt rate)T&C''s apply 08452810075over18''s']\n",
    "input_d = feature_extraction.transform(input_d)\n",
    "\n",
    "prediction = model.predict(input_d)\n",
    "\n",
    "if prediction[0]==0:\n",
    "    print(\"You've been spammed\")\n",
    "else:\n",
    "    print('Someone remembers you')"
   ]
  },
  {
   "cell_type": "code",
   "execution_count": null,
   "id": "71511327",
   "metadata": {},
   "outputs": [],
   "source": []
  }
 ],
 "metadata": {
  "kernelspec": {
   "display_name": "Python 3",
   "language": "python",
   "name": "python3"
  },
  "language_info": {
   "codemirror_mode": {
    "name": "ipython",
    "version": 3
   },
   "file_extension": ".py",
   "mimetype": "text/x-python",
   "name": "python",
   "nbconvert_exporter": "python",
   "pygments_lexer": "ipython3",
   "version": "3.8.8"
  }
 },
 "nbformat": 4,
 "nbformat_minor": 5
}
